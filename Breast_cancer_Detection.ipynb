{
 "cells": [
  {
   "cell_type": "code",
   "execution_count": 1,
   "metadata": {},
   "outputs": [],
   "source": [
    "from sklearn import tree\n",
    "from sklearn.tree import export_graphviz\n",
    "from sklearn.model_selection import cross_val_score, train_test_split, cross_val_predict, KFold\n",
    "import matplotlib.pyplot as plt\n",
    "import numpy as np\n",
    "import pandas as pd\n",
    "from sklearn.model_selection import GridSearchCV\n",
    "from sklearn.metrics import precision_recall_curve, accuracy_score\n",
    "from sklearn.metrics import roc_curve, roc_auc_score\n",
    "from sklearn.metrics import confusion_matrix, precision_recall_fscore_support\n",
    "import warnings\n",
    "warnings.filterwarnings('ignore')"
   ]
  },
  {
   "cell_type": "code",
   "execution_count": 2,
   "metadata": {},
   "outputs": [],
   "source": [
    "# load the data set\n",
    "wdbc = pd.read_csv(\"wdbc.data\",delimiter=',',header=None)\n",
    "\n",
    "# converting the target variable to a factor with our target class 'M' as 1 and 'B' as 0\n",
    "wdbc.iloc[:,1][wdbc.iloc[:,1] == 'B'] = 0\n",
    "wdbc.iloc[:,1][wdbc.iloc[:,1] == 'M'] = 1\n",
    "\n",
    "# splitting the data into training and testing sets\n",
    "train_set, test_set = train_test_split(wdbc, test_size=0.2, random_state=42)\n",
    "\n",
    "# since the first column in the data set is id, we do not need that and column 2 is our target variable.\n",
    "X_train = train_set.iloc[:, 2:32]\n",
    "Y_train = train_set.iloc[:,1]\n",
    "Y_train=Y_train.astype('int')\n",
    "\n",
    "X_test = test_set.iloc[:, 2:32]\n",
    "Y_test = test_set.iloc[:,1]\n",
    "Y_test=Y_test.astype('int')"
   ]
  },
  {
   "cell_type": "code",
   "execution_count": 3,
   "metadata": {},
   "outputs": [],
   "source": [
    "# standardizing the data\n",
    "from sklearn.preprocessing import StandardScaler\n",
    "scaler = StandardScaler()\n",
    "X_train_scaled = scaler.fit_transform(X_train.astype(np.float64))\n",
    "X_test_scaled = scaler.fit_transform(X_test.astype(np.float64))"
   ]
  },
  {
   "cell_type": "code",
   "execution_count": 4,
   "metadata": {},
   "outputs": [
    {
     "name": "stdout",
     "output_type": "stream",
     "text": [
      "{'n_neighbors': 8, 'weights': 'distance'}\n",
      "0.91702415231827\n"
     ]
    }
   ],
   "source": [
    "# kNN Model\n",
    "\n",
    "#For kNN scaled data needs to be used to ensure equal weightage is given to all variables.\n",
    "\n",
    "# Parameter optimization for kNN - scaled version\n",
    "from sklearn import neighbors\n",
    "param_grid = [{'weights': [\"uniform\", \"distance\"], 'n_neighbors': [8,9,10,15]}]\n",
    "\n",
    "knn_clfs = neighbors.KNeighborsClassifier()\n",
    "grid_search1 = GridSearchCV(knn_clfs, param_grid, cv=5, n_jobs=-1,scoring='recall')\n",
    "grid_search1.fit(X_train_scaled, Y_train)\n",
    "print(grid_search1.best_params_)\n",
    "print(grid_search1.best_score_)"
   ]
  },
  {
   "cell_type": "code",
   "execution_count": 5,
   "metadata": {},
   "outputs": [
    {
     "name": "stdout",
     "output_type": "stream",
     "text": [
      "Recall Score: 0.92 (+/- 0.10)\n",
      "Precision Score: 0.98 (+/- 0.05)\n",
      "Accuracy Score: 0.96 (+/- 0.04)\n"
     ]
    },
    {
     "data": {
      "image/png": "[encoded data removed]",
      "text/plain": [
       "<Figure size 432x288 with 1 Axes>"
      ]
     },
     "metadata": {
      "needs_background": "light"
     },
     "output_type": "display_data"
    },
    {
     "data": {
      "text/plain": [
       "0.9533351264120495"
      ]
     },
     "execution_count": 5,
     "metadata": {},
     "output_type": "execute_result"
    }
   ],
   "source": [
    "knn_clf = neighbors.KNeighborsClassifier(weights = \"distance\",n_neighbors = 8)\n",
    "scores = cross_val_score(knn_clf, X_train_scaled, Y_train, n_jobs=-1,cv=5, scoring=\"recall\")\n",
    "print(\"Recall Score: %0.2f (+/- %0.2f)\" % (scores.mean(), scores.std() * 2))\n",
    "scores = cross_val_score(knn_clf, X_train_scaled, Y_train, n_jobs=-1,cv=5, scoring=\"precision\")\n",
    "print(\"Precision Score: %0.2f (+/- %0.2f)\" % (scores.mean(), scores.std() * 2))\n",
    "scores = cross_val_score(knn_clf, X_train_scaled, Y_train, n_jobs=-1,cv=5, scoring=\"accuracy\")\n",
    "print(\"Accuracy Score: %0.2f (+/- %0.2f)\" % (scores.mean(), scores.std() * 2))\n",
    "y_scores = cross_val_predict(knn_clf, X_train_scaled, Y_train, cv=5)\n",
    "fpr, tpr, thresholds = roc_curve(Y_train, y_scores)\n",
    "def plot_roc_curve(fpr, tpr, label=None):\n",
    "    plt.plot(fpr, tpr, linewidth=2, label=label)\n",
    "    plt.plot([0, 1], [0, 1], 'k--')\n",
    "    plt.axis([0, 1, 0, 1])\n",
    "    plt.xlabel('False Positive Rate')\n",
    "    plt.ylabel('True Positive Rate')\n",
    "plot_roc_curve(fpr, tpr)\n",
    "plt.show()\n",
    "\n",
    "roc_auc_score(Y_train, y_scores)"
   ]
  },
  {
   "cell_type": "code",
   "execution_count": 39,
   "metadata": {},
   "outputs": [
    {
     "name": "stdout",
     "output_type": "stream",
     "text": [
      "{'C': 0.2, 'penalty': 'l1'}\n",
      "0.9644825762472821\n"
     ]
    }
   ],
   "source": [
    "# Logistic Model\n",
    "\n",
    "# For Logistic also i am using scaled data to reduce the influce of high value attributes like \n",
    "# mean vs standard detviation or worst vs standard deviation\n",
    "\n",
    "# Parameter optimization for Logistics Regression - scaled version\n",
    "from sklearn import linear_model\n",
    "param_grid = [{'C': [0.1,0.2,0.5,1,5,10],'penalty': ['l1', 'l2']}]\n",
    "\n",
    "Logit_clfs = linear_model.LogisticRegression()\n",
    "grid_search2 = GridSearchCV(Logit_clfs, param_grid, cv=5, n_jobs=-1,scoring='recall')\n",
    "grid_search2.fit(X_train_scaled, Y_train)\n",
    "print(grid_search2.best_params_)\n",
    "print(grid_search2.best_score_)"
   ]
  },
  {
   "cell_type": "code",
   "execution_count": 33,
   "metadata": {},
   "outputs": [
    {
     "name": "stdout",
     "output_type": "stream",
     "text": [
      "Recall Score: 0.96 (+/- 0.06)\n",
      "Precision Score: 0.98 (+/- 0.05)\n",
      "Accuracy Score: 0.98 (+/- 0.02)\n"
     ]
    },
    {
     "data": {
      "image/png": "[encoded data removed]",
      "text/plain": [
       "<Figure size 432x288 with 1 Axes>"
      ]
     },
     "metadata": {
      "needs_background": "light"
     },
     "output_type": "display_data"
    },
    {
     "data": {
      "text/plain": [
       "0.9752555137170523"
      ]
     },
     "execution_count": 33,
     "metadata": {},
     "output_type": "execute_result"
    }
   ],
   "source": [
    "Logit_clf = linear_model.LogisticRegression(C = 0.2,penalty = 'l1')\n",
    "scores = cross_val_score(Logit_clf, X_train_scaled, Y_train,n_jobs=-1, cv=5, scoring=\"recall\")\n",
    "print(\"Recall Score: %0.2f (+/- %0.2f)\" % (scores.mean(), scores.std() * 2))\n",
    "scores = cross_val_score(Logit_clf, X_train_scaled, Y_train,n_jobs=-1, cv=5, scoring=\"precision\")\n",
    "print(\"Precision Score: %0.2f (+/- %0.2f)\" % (scores.mean(), scores.std() * 2))\n",
    "scores = cross_val_score(Logit_clf, X_train_scaled, Y_train,n_jobs=-1, cv=5, scoring=\"accuracy\")\n",
    "print(\"Accuracy Score: %0.2f (+/- %0.2f)\" % (scores.mean(), scores.std() * 2))\n",
    "y_scores = cross_val_predict(Logit_clf, X_train_scaled, Y_train, cv=5)\n",
    "fpr, tpr, thresholds = roc_curve(Y_train, y_scores)\n",
    "def plot_roc_curve(fpr, tpr, label=None):\n",
    "    plt.plot(fpr, tpr, linewidth=2, label=label)\n",
    "    plt.plot([0, 1], [0, 1], 'k--')\n",
    "    plt.axis([0, 1, 0, 1])\n",
    "    plt.xlabel('False Positive Rate')\n",
    "    plt.ylabel('True Positive Rate')\n",
    "plot_roc_curve(fpr, tpr)\n",
    "plt.show()\n",
    "\n",
    "roc_auc_score(Y_train, y_scores)"
   ]
  },
  {
   "cell_type": "code",
   "execution_count": 8,
   "metadata": {},
   "outputs": [
    {
     "name": "stdout",
     "output_type": "stream",
     "text": [
      "{'max_depth': 8, 'min_samples_split': 12}\n",
      "0.9346712111417993\n"
     ]
    }
   ],
   "source": [
    "# Decision Tree\n",
    "\n",
    "# For decision tree data standardization is not needed so using the main non scaled dataset\n",
    "# Parameter optimization for Decision Trees\n",
    "from sklearn import tree\n",
    "param_grid = [{'max_depth': [5, 6, 7, 8, 9], 'min_samples_split': [8,9,10,11,12]}]\n",
    "\n",
    "tree_clf = tree.DecisionTreeClassifier()\n",
    "grid_search3 = GridSearchCV(tree_clf, param_grid, cv=5, n_jobs=-1,scoring='recall')\n",
    "grid_search3.fit(X_train, Y_train)\n",
    "print(grid_search3.best_params_)\n",
    "print(grid_search3.best_score_)"
   ]
  },
  {
   "cell_type": "code",
   "execution_count": 9,
   "metadata": {},
   "outputs": [
    {
     "name": "stdout",
     "output_type": "stream",
     "text": [
      "{'max_depth': 8, 'min_samples_split': 12}\n",
      "{'max_depth': 6, 'min_samples_split': 8}\n",
      "{'max_depth': 6, 'min_samples_split': 9}\n",
      "{'max_depth': 6, 'min_samples_split': 11}\n",
      "{'max_depth': 7, 'min_samples_split': 10}\n",
      "{'max_depth': 5, 'min_samples_split': 9}\n",
      "{'max_depth': 5, 'min_samples_split': 8}\n",
      "{'max_depth': 6, 'min_samples_split': 8}\n",
      "{'max_depth': 9, 'min_samples_split': 8}\n",
      "{'max_depth': 5, 'min_samples_split': 8}\n",
      "{'max_depth': 6, 'min_samples_split': 9}\n",
      "{'max_depth': 7, 'min_samples_split': 10}\n",
      "{'max_depth': 7, 'min_samples_split': 8}\n",
      "{'max_depth': 8, 'min_samples_split': 9}\n",
      "{'max_depth': 5, 'min_samples_split': 10}\n"
     ]
    }
   ],
   "source": [
    "# The above code for decision trees is giving different hyperparameters for each iteration in order to identify the most\n",
    "# frequent combinations doing n trails and identifying the combination. \n",
    "\n",
    "\n",
    "# Number of random trials\n",
    "NUM_TRIALS = 15\n",
    "\n",
    "# Arrays to store scores\n",
    "non_nested_scores = np.zeros(NUM_TRIALS)\n",
    "\n",
    "# Loop for each trial\n",
    "for i in range(NUM_TRIALS):\n",
    "\n",
    "    # Choose cross-validation techniques for the inner and outer loops,\n",
    "    # independently of the dataset.\n",
    "    # E.g \"LabelKFold\", \"LeaveOneOut\", \"LeaveOneLabelOut\", etc.\n",
    "    inner_cv = KFold(n_splits=4, shuffle=True, random_state=i)\n",
    "\n",
    "    # Non_nested parameter search and scoring\n",
    "    clf = GridSearchCV(tree_clf, param_grid=[{'max_depth': [5, 6, 7, 8, 9], 'min_samples_split': [8,9,10,11,12]}],\n",
    "                       cv=inner_cv, scoring='recall')\n",
    "    clf.fit(X_train, Y_train)\n",
    "    non_nested_scores[i] = clf.best_score_\n",
    "    print(clf.best_params_)"
   ]
  },
  {
   "cell_type": "code",
   "execution_count": 10,
   "metadata": {},
   "outputs": [
    {
     "name": "stdout",
     "output_type": "stream",
     "text": [
      "Recall Score: 0.92 (+/- 0.10)\n",
      "Precision Score: 0.90 (+/- 0.07)\n",
      "Accuracy Score: 0.93 (+/- 0.04)\n"
     ]
    },
    {
     "data": {
      "image/png": "[encoded data removed]",
      "text/plain": [
       "<Figure size 432x288 with 1 Axes>"
      ]
     },
     "metadata": {
      "needs_background": "light"
     },
     "output_type": "display_data"
    },
    {
     "data": {
      "text/plain": [
       "0.9365250134480904"
      ]
     },
     "execution_count": 10,
     "metadata": {},
     "output_type": "execute_result"
    }
   ],
   "source": [
    "tree_clf = tree.DecisionTreeClassifier(max_depth = 5,min_samples_split = 10)\n",
    "scores = cross_val_score(tree_clf, X_train, Y_train, cv=5, n_jobs=-1,scoring=\"recall\")\n",
    "print(\"Recall Score: %0.2f (+/- %0.2f)\" % (scores.mean(), scores.std() * 2))\n",
    "scores = cross_val_score(tree_clf, X_train, Y_train, cv=5, n_jobs=-1,scoring=\"precision\")\n",
    "print(\"Precision Score: %0.2f (+/- %0.2f)\" % (scores.mean(), scores.std() * 2))\n",
    "scores = cross_val_score(tree_clf, X_train, Y_train, cv=5, n_jobs=-1,scoring=\"accuracy\")\n",
    "print(\"Accuracy Score: %0.2f (+/- %0.2f)\" % (scores.mean(), scores.std() * 2))\n",
    "y_scores = cross_val_predict(tree_clf, X_train, Y_train, cv=5)\n",
    "fpr, tpr, thresholds = roc_curve(Y_train, y_scores)\n",
    "def plot_roc_curve(fpr, tpr, label=None):\n",
    "    plt.plot(fpr, tpr, linewidth=2, label=label)\n",
    "    plt.plot([0, 1], [0, 1], 'k--')\n",
    "    plt.axis([0, 1, 0, 1])\n",
    "    plt.xlabel('False Positive Rate')\n",
    "    plt.ylabel('True Positive Rate')\n",
    "plot_roc_curve(fpr, tpr)\n",
    "plt.show()\n",
    "\n",
    "roc_auc_score(Y_train, y_scores)"
   ]
  },
  {
   "cell_type": "code",
   "execution_count": 11,
   "metadata": {},
   "outputs": [
    {
     "name": "stdout",
     "output_type": "stream",
     "text": [
      "[[69  2]\n",
      " [ 3 40]]\n",
      "Accuracy: 0.956140350877193\n",
      "Precision: 0.9560881370091896\n",
      "Recall: 0.956140350877193\n",
      "F score: 0.9560357083576897\n"
     ]
    }
   ],
   "source": [
    "# Clearly Logistic Regression is giving a high recall score. Since each model has finalized finetuned parameters.\n",
    "# We can run each model on the test data and see how it is performing.\n",
    "\n",
    "## Testing with kNN\n",
    "\n",
    "knn_clf = neighbors.KNeighborsClassifier(weights = \"distance\",n_neighbors = 8)\n",
    "knn_clf.fit(X_train_scaled,Y_train)\n",
    "y_pred = knn_clf.predict(X_test_scaled)\n",
    "conf_mat = confusion_matrix(Y_test, y_pred)\n",
    "accuracy = accuracy_score(Y_test, y_pred)\n",
    "score = precision_recall_fscore_support(Y_test, y_pred, average='weighted')\n",
    "precision, recall, fscore, k = score\n",
    "print(conf_mat)\n",
    "print(\"Accuracy:\",accuracy)\n",
    "print(\"Precision:\",precision)\n",
    "print(\"Recall:\",recall)\n",
    "print(\"F score:\",fscore)"
   ]
  },
  {
   "cell_type": "code",
   "execution_count": 40,
   "metadata": {},
   "outputs": [
    {
     "name": "stdout",
     "output_type": "stream",
     "text": [
      "[[70  1]\n",
      " [ 3 40]]\n",
      "Accuracy: 0.9649122807017544\n",
      "Precision: 0.9652053622194477\n",
      "Recall: 0.9649122807017544\n",
      "F score: 0.9647382344750767\n"
     ]
    }
   ],
   "source": [
    "## Testing with Logistic\n",
    "\n",
    "Logit_clf = linear_model.LogisticRegression(C = 0.2,penalty = 'l1')\n",
    "Logit_clf.fit(X_train_scaled,Y_train)\n",
    "y_pred = Logit_clf.predict(X_test_scaled)\n",
    "conf_mat = confusion_matrix(Y_test, y_pred)\n",
    "accuracy = accuracy_score(Y_test, y_pred)\n",
    "score = precision_recall_fscore_support(Y_test, y_pred, average='weighted')\n",
    "precision, recall, fscore, k = score\n",
    "print(conf_mat)\n",
    "print(\"Accuracy:\",accuracy)\n",
    "print(\"Precision:\",precision)\n",
    "print(\"Recall:\",recall)\n",
    "print(\"F score:\",fscore)"
   ]
  },
  {
   "cell_type": "code",
   "execution_count": 13,
   "metadata": {},
   "outputs": [
    {
     "name": "stdout",
     "output_type": "stream",
     "text": [
      "[[67  4]\n",
      " [ 4 39]]\n",
      "Accuracy: 0.9298245614035088\n",
      "Precision: 0.9298245614035088\n",
      "Recall: 0.9298245614035088\n",
      "F score: 0.9298245614035088\n"
     ]
    }
   ],
   "source": [
    "## Testing with Decision Trees\n",
    "\n",
    "tree_clf = tree.DecisionTreeClassifier(max_depth = 5,min_samples_split = 10)\n",
    "tree_clf.fit(X_train,Y_train)\n",
    "y_pred = tree_clf.predict(X_test)\n",
    "conf_mat = confusion_matrix(Y_test, y_pred)\n",
    "accuracy = accuracy_score(Y_test, y_pred)\n",
    "score = precision_recall_fscore_support(Y_test, y_pred, average='weighted')\n",
    "precision, recall, fscore, k = score\n",
    "print(conf_mat)\n",
    "print(\"Accuracy:\",accuracy)\n",
    "print(\"Precision:\",precision)\n",
    "print(\"Recall:\",recall)\n",
    "print(\"F score:\",fscore)"
   ]
  },
  {
   "cell_type": "code",
   "execution_count": 14,
   "metadata": {},
   "outputs": [],
   "source": [
    "## Clearly Logistic regression is giving the best results on both the training and testing data.\n",
    "### Performance metrics:\n",
    "\n",
    "# 1. recall score - 96% on the training data with precision = 98%\n",
    "# 2. ROC curve - For Logistic the ROC curve is closest to the top left corner and for a given \n",
    "#    error rate we are seeing a better recall accuracy for logistic than other 2 models ( AUC - 0.9752555137170523)\n",
    "    \n",
    "### Logistic Model Performance on Testing Data:\n",
    "\n",
    "# 1. Recall score = 96.49%\n",
    "# 2. Precsion score = 96.52%\n",
    "# 3. F score = 96.47%\n",
    "# 4. Accuracy = 96.49%\n",
    "# 5. Classification Error = 3.51% \n"
   ]
  },
  {
   "cell_type": "code",
   "execution_count": null,
   "metadata": {},
   "outputs": [],
   "source": []
  }
 ],
 "metadata": {
  "kernelspec": {
   "display_name": "Python 3",
   "language": "python",
   "name": "python3"
  },
  "language_info": {
   "codemirror_mode": {
    "name": "ipython",
    "version": 3
   },
   "file_extension": ".py",
   "mimetype": "text/x-python",
   "name": "python",
   "nbconvert_exporter": "python",
   "pygments_lexer": "ipython3",
   "version": "3.7.1"
  }
 },
 "nbformat": 4,
 "nbformat_minor": 2
}
